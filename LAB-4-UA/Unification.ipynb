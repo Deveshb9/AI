{
 "cells": [
  {
   "cell_type": "code",
   "execution_count": 1,
   "metadata": {},
   "outputs": [],
   "source": [
    "# Devesh Bhogre\n",
    "# PB47\n",
    "# AI Unification"
   ]
  },
  {
   "cell_type": "code",
   "execution_count": 6,
   "metadata": {},
   "outputs": [
    {
     "name": "stdout",
     "output_type": "stream",
     "text": [
      "Enter expression 1: p(f(x),y)\n",
      "Enter expression 2: p(a,b)\n",
      "['f(x)/a', 'y/b']\n"
     ]
    }
   ],
   "source": [
    "# check no. of arg in both exp\n",
    "# arg count needs to be same in both exp\n",
    "def argCount(exp1,exp2):\n",
    "    s1 = exp1[1].replace(')','')\n",
    "    s2 = exp2[1].replace(')','')\n",
    "    param_1 = s1.split(',',1)\n",
    "    param_2 = s2.split(',',1)\n",
    "    if(len(param_1) == len(param_2)):\n",
    "        return True,param_1,param_2\n",
    "    else:\n",
    "        return False,0,0\n",
    "\n",
    "# predicates to both exp must be same\n",
    "def isPredicate(exp1,exp2):\n",
    "    if(exp1[0] == exp2[0]):\n",
    "        return True\n",
    "    else:\n",
    "        return False\n",
    "\n",
    "# check if substitution is possible\n",
    "# perform substitution\n",
    "def checkSubstitution(s1,s2,i):\n",
    "    l1 = s1[i]\n",
    "    l2 = s2[i]\n",
    "    if(l1==l2):\n",
    "        return None\n",
    "    elif (len(l1) == 1 and l1.isnumeric() == False):\n",
    "        if l1 in s2 :\n",
    "            return 0\n",
    "        else:\n",
    "            if '(' in l1:\n",
    "                l1 = l1 + ')'\n",
    "            stri = l1 + \"/\" + l2\n",
    "            return stri\n",
    "    elif (len(l2) == 1 and l2.isnumeric() == False):\n",
    "        if l2 in s1:\n",
    "            return 0 \n",
    "        else:\n",
    "            if '(' in l1:\n",
    "                l1 = l1 + ')'\n",
    "            stri = l1 + \"/\" + l2\n",
    "            return stri\n",
    "    else:\n",
    "        return 0\n",
    "\n",
    "\n",
    "\n",
    "sub_set = []    # substitution output, initially empty \n",
    "\n",
    "exp1 = input(\"Enter expression 1: \").split('(',1)   # split after encountering 1st (\n",
    "exp2 = input(\"Enter expression 2: \").split('(',1)\n",
    "\n",
    "check,s1,s2 = argCount(exp1,exp2)\n",
    "\n",
    "sub_1 = \"\"\n",
    "flag = 0\n",
    "\n",
    "#condition where predicate don't match\n",
    "if(isPredicate(exp1,exp2) == False or check == False):\n",
    "    print (\"failed\")\n",
    "else:\n",
    "    for i in range(len(s1)):\n",
    "        sub_1 = checkSubstitution(s1,s2,i)\n",
    "        if(sub_1 == 0):\n",
    "            print(\"failed\")\n",
    "            flag = 0\n",
    "            break\n",
    "        elif (sub_1 == None):\n",
    "            print(\"NIL\")\n",
    "            flag = 0\n",
    "            break\n",
    "        else:\n",
    "            sub_set.append(sub_1)\n",
    "            flag = 1\n",
    "    if (flag == 1):\n",
    "        print(sub_set)  # substitution output"
   ]
  },
  {
   "cell_type": "code",
   "execution_count": null,
   "metadata": {},
   "outputs": [],
   "source": []
  }
 ],
 "metadata": {
  "kernelspec": {
   "display_name": "Python 3",
   "language": "python",
   "name": "python3"
  },
  "language_info": {
   "codemirror_mode": {
    "name": "ipython",
    "version": 3
   },
   "file_extension": ".py",
   "mimetype": "text/x-python",
   "name": "python",
   "nbconvert_exporter": "python",
   "pygments_lexer": "ipython3",
   "version": "3.8.3"
  }
 },
 "nbformat": 4,
 "nbformat_minor": 4
}
