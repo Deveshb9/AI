{
 "cells": [
  {
   "cell_type": "code",
   "execution_count": 1,
   "metadata": {},
   "outputs": [],
   "source": [
    "#Devesh Bhogre PB47-B3 CSP "
   ]
  },
  {
   "cell_type": "code",
   "execution_count": 4,
   "metadata": {},
   "outputs": [
    {
     "name": "stdout",
     "output_type": "stream",
     "text": [
      "[(9567, 1085, 10652)]\n",
      "([SEND, MORE, MONEY])\n"
     ]
    }
   ],
   "source": [
    "def solutions():\n",
    "    # letters = ('s', 'e', 'n', 'd', 'm', 'o', 'r', 'y')\n",
    "    all_solutions = list()\n",
    "    for s in range(9, -1, -1):\n",
    "        for e in range(9, -1, -1):\n",
    "            for n in range(9, -1, -1):\n",
    "                for d in range(9, -1, -1):\n",
    "                    for m in range(9, 0, -1):\n",
    "                        for o in range(9, -1, -1):\n",
    "                            for r in range(9, -1, -1):\n",
    "                                for y in range(9, -1, -1):\n",
    "                                    if len(set([s, e, n, d, m, o, r, y])) == 8:\n",
    "                                        send = 1000 * s + 100 * e + 10 * n + d\n",
    "                                        more = 1000 * m + 100 * o + 10 * r + e\n",
    "                                        money = 10000 * m + 1000 * o + 100 * n + 10 * e + y\n",
    "\n",
    "                                        if send + more == money:\n",
    "                                            all_solutions.append((send, more, money))\n",
    "                                            break\n",
    "    return all_solutions\n",
    "\n",
    "print(solutions())\n",
    "print('([SEND, MORE, MONEY])')"
   ]
  },
  {
   "cell_type": "code",
   "execution_count": 3,
   "metadata": {},
   "outputs": [
    {
     "name": "stdout",
     "output_type": "stream",
     "text": [
      "9567 + 1085 = 10652\n",
      "SEND + MORE = MONEY\n"
     ]
    }
   ],
   "source": [
    "from itertools import combinations, permutations\n",
    "\n",
    "def replacements(): \n",
    "    for comb in combinations(range(10), 8): \n",
    "        for perm in permutations(comb): \n",
    "            if perm[0] * perm[1] != 0: \n",
    "                yield dict(zip('SMENDORY', perm))\n",
    "\n",
    "a, b, c = 'SEND', 'MORE', 'MONEY'\n",
    "\n",
    "for replacement in replacements(): \n",
    "    f = lambda x: sum(replacement[e] * 10**i for i, e in enumerate(x[::-1])) \n",
    "    if (f(a) + f(b) == f(c)) & (len(a) == len(str(f(a)))) & (len(b) == len(str(f(b)))) & (len(c) == len(str(f(c)))):\n",
    "        print('{} + {} = {}'.format(f(a), f(b), f(c)))\n",
    "        break\n",
    "print('SEND + MORE = MONEY')"
   ]
  }
 ],
 "metadata": {
  "kernelspec": {
   "display_name": "Python 3",
   "language": "python",
   "name": "python3"
  },
  "language_info": {
   "codemirror_mode": {
    "name": "ipython",
    "version": 3
   },
   "file_extension": ".py",
   "mimetype": "text/x-python",
   "name": "python",
   "nbconvert_exporter": "python",
   "pygments_lexer": "ipython3",
   "version": "3.8.3"
  }
 },
 "nbformat": 4,
 "nbformat_minor": 4
}
